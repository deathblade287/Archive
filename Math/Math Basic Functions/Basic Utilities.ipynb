{
 "cells": [
  {
   "cell_type": "code",
   "execution_count": 1,
   "metadata": {},
   "outputs": [
    {
     "name": "stdout",
     "output_type": "stream",
     "text": [
      "Please enter the number :: 112235637\n",
      "Odd\n"
     ]
    }
   ],
   "source": [
    "# Check Number As Odd/Even\n",
    "n = int(input(\"Please enter the number :: \"))\n",
    "x = n%2\n",
    "\n",
    "if (x == 0):\n",
    "    print(\"Even\")\n",
    "else :\n",
    "    print(\"Odd\")"
   ]
  },
  {
   "cell_type": "code",
   "execution_count": 2,
   "metadata": {},
   "outputs": [
    {
     "name": "stdout",
     "output_type": "stream",
     "text": [
      "Number 1:1\n",
      "Number 2:4\n",
      "Number 3:6\n",
      "6 is the greatest\n"
     ]
    }
   ],
   "source": [
    "# Largest Number\n",
    "a = int(input(\"Number 1:\"))\n",
    "b = int(input(\"Number 2:\"))\n",
    "c = int(input(\"Number 3:\"))\n",
    "\n",
    "if (a>=b):\n",
    "    if (a>c):\n",
    "        print(a , \"is the greatest\")\n",
    "elif (b>=c):\n",
    "    print(b , \"is the greatest\")\n",
    "elif (c>=a):\n",
    "    if (c>b):\n",
    "        print(c , \"is the greatest\")"
   ]
  },
  {
   "cell_type": "code",
   "execution_count": 3,
   "metadata": {},
   "outputs": [
    {
     "name": "stdout",
     "output_type": "stream",
     "text": [
      "What Number's Factors Do You Want To Take Out?100\n",
      "1\n",
      "2\n",
      "4\n",
      "5\n",
      "10\n",
      "20\n",
      "25\n",
      "50\n",
      "100\n"
     ]
    }
   ],
   "source": [
    "# Factors\n",
    "inp = int(input(\"What Number's Factors Do You Want To Take Out?\"))\n",
    "cn = 1\n",
    "\n",
    "for i in range(inp):\n",
    "    r = inp%cn\n",
    "    if (r == 0):\n",
    "        print(cn)\n",
    "    cn = cn + 1"
   ]
  },
  {
   "cell_type": "code",
   "execution_count": 4,
   "metadata": {},
   "outputs": [
    {
     "name": "stdout",
     "output_type": "stream",
     "text": [
      "Number 1:3\n",
      "Number 2:90\n",
      "3\n"
     ]
    }
   ],
   "source": [
    "# HCF(From 2 Numbers)\n",
    "inp = int(input(\"Number 1:\"))\n",
    "inp2 = int(input(\"Number 2:\"))\n",
    "\n",
    "if (inp < inp2):\n",
    "    small = inp\n",
    "    big = inp2\n",
    "else :\n",
    "    small = inp2\n",
    "    big = inp\n",
    "for a in range (small , 1 , -1):\n",
    "    if (big%a == 0) and (small%a == 0):\n",
    "        print(a)\n",
    "        break"
   ]
  },
  {
   "cell_type": "code",
   "execution_count": 8,
   "metadata": {},
   "outputs": [
    {
     "name": "stdout",
     "output_type": "stream",
     "text": [
      "What number do you want to check?6\n",
      "Not Prime\n"
     ]
    }
   ],
   "source": [
    "# Prime (Yes or No)\n",
    "n = int(input(\"What number do you want to check?\"))\n",
    "for i in range (2 , n-1 , 1):\n",
    "    if not (n%i == 0):\n",
    "        print(\"Prime\")\n",
    "        break\n",
    "    if (n%i == 0):\n",
    "        print(\"Not Prime\")\n",
    "        break\n",
    "    "
   ]
  },
  {
   "cell_type": "code",
   "execution_count": 9,
   "metadata": {},
   "outputs": [
    {
     "name": "stdout",
     "output_type": "stream",
     "text": [
      "Type in all smalls\n",
      "The word you want to check: nitin\n",
      "True\n"
     ]
    }
   ],
   "source": [
    "# Reverse string true or false\n",
    "print(\"Type in all smalls\")\n",
    "inp = str(input(\"The word you want to check: \"))\n",
    "r_inp = inp[::-1]\n",
    "\n",
    "if (inp == r_inp):\n",
    "    print(\"True\")\n",
    "else :\n",
    "    print(\"False\")"
   ]
  },
  {
   "cell_type": "code",
   "execution_count": null,
   "metadata": {},
   "outputs": [],
   "source": []
  }
 ],
 "metadata": {
  "kernelspec": {
   "display_name": "Python 3 (ipykernel)",
   "language": "python",
   "name": "python3"
  },
  "language_info": {
   "codemirror_mode": {
    "name": "ipython",
    "version": 3
   },
   "file_extension": ".py",
   "mimetype": "text/x-python",
   "name": "python",
   "nbconvert_exporter": "python",
   "pygments_lexer": "ipython3",
   "version": "3.9.5"
  }
 },
 "nbformat": 4,
 "nbformat_minor": 4
}
