{
 "cells": [
  {
   "cell_type": "code",
   "execution_count": 1,
   "metadata": {},
   "outputs": [],
   "source": [
    "import os as os\n",
    "import math as m\n",
    "import datetime as dt"
   ]
  },
  {
   "cell_type": "code",
   "execution_count": 2,
   "metadata": {},
   "outputs": [],
   "source": [
    "# Functions and their names (all numbers are with unlimited numbers)\n",
    "# Adition (add)\n",
    "# Subtract (sub)\n",
    "# Multiply (mult)\n",
    "# Divide (div)"
   ]
  },
  {
   "cell_type": "markdown",
   "metadata": {},
   "source": [
    "# Calculations - defining them not calling them\n",
    "\n",
    "def add():\n",
    "    l = []\n",
    "    print(\"This program will add al the number you give\")\n",
    "    i = int(input(\"Enter the number of integers you want to add : \"))\n",
    "    for j in range(i):\n",
    "        l.append(int(input(\"Enter the integer : \")))\n",
    "    n=0\n",
    "    for k in range(i):\n",
    "        n=n+l[k]\n",
    "    print(n)\n",
    "\n",
    "def sub():\n",
    "    print(\"This program will subtrace the 2 numbers you give\")\n",
    "    i = int(input(\"number 1 : \"))\n",
    "    i2 = int(input(\"number 2 : \"))\n",
    "    s = i-i2\n",
    "    print(s)\n",
    "\n",
    "def mult():\n",
    "    print(\"This program will take the product of the 2 numbers you give\")\n",
    "    i = int(input(\"Number 1 : \"))\n",
    "    i2 = int(input(\"Number 2 : \"))\n",
    "    s = i*i2\n",
    "    print(s)\n",
    "def div():\n",
    "    print(\"This program will divide the 2 numbers you give\")\n",
    "    print(\"if you want only quotient type q\")\n",
    "    print(\"if you want only remainder type r\")\n",
    "    print(\"if you want only both type d\")\n",
    "    print(\"if you want fully divided (with decimals) type f\")\n",
    "    z = str(input())\n",
    "    if (z == \"q\"):\n",
    "        n = int(input(\"Number 1 : \"))\n",
    "        n2 = int(input(\"Number 2 : \"))\n",
    "        j = m.floor(n/n2)\n",
    "        print(j)\n",
    "    elif (z == \"r\"):\n",
    "        n = int(input(\"Number 1 : \"))\n",
    "        n2 = int(input(\"Number 2 : \"))\n",
    "        j = n%n2\n",
    "        print(j)\n",
    "    elif (z == \"d\"):\n",
    "        n = int(input(\"Number 1 : \"))\n",
    "        n2 = int(input(\"Number 2 : \"))\n",
    "        j = m.floor(n/n2)\n",
    "        j2 = n%n2\n",
    "        print(\"Q =\" ,  j)\n",
    "        print(\"R =\" ,  j2)\n",
    "    elif (z == \"f\"):\n",
    "        n = int(input(\"Number 1 : \"))\n",
    "        n2 = int(input(\"Number 2 : \"))\n",
    "        j = n/n2\n",
    "        print(j)\n",
    "    else :\n",
    "        print(\"You haven't put any right letter\")\n",
    "        print(\"Try again\")\n",
    "        div()"
   ]
  },
  {
   "cell_type": "code",
   "execution_count": null,
   "metadata": {},
   "outputs": [
    {
     "name": "stdout",
     "output_type": "stream",
     "text": [
      "Hello ! I am a calculator\n",
      "\n",
      "For addition type a\n",
      "For subtraction type s\n",
      "For division type d\n",
      "For multiplication type m\n",
      "\n"
     ]
    }
   ],
   "source": [
    "# Calling functions\n",
    "def calling_functions():\n",
    "    print(\"Hello ! I am a calculator\")\n",
    "    print()\n",
    "    print(\"For addition type a\")\n",
    "    print(\"For subtraction type s\")\n",
    "    print(\"For division type d\")\n",
    "    print(\"For multiplication type m\")\n",
    "    print()\n",
    "    try:\n",
    "        inp = int(input(\"Please enter : \"))\n",
    "        if (inp == a):\n",
    "            add()\n",
    "        elif (inp == s):\n",
    "            sub()\n",
    "        elif (inp == d):\n",
    "            div()\n",
    "        elif (inp == m):\n",
    "            mult()\n",
    "        else : \n",
    "            pass\n",
    "    except ValueError:\n",
    "        print(\"You haven't entered a valid value\") \n",
    "        print(\"Please try again\")\n",
    "        calling_functions()\n",
    "    else:\n",
    "        print(\"Oops !! Something went wrong !!\")\n",
    "        print(\"Please try again\")\n",
    "        print()\n",
    "        print()\n",
    "        calling_functions()\n",
    "    finally:\n",
    "        print(\"!! Thank you for using me !!\")\n",
    "        print(\"!! Have a nice day !!\")\n",
    "calling_functions()"
   ]
  },
  {
   "cell_type": "code",
   "execution_count": null,
   "metadata": {},
   "outputs": [],
   "source": [
    "for i in range(10):\n",
    "    print(\"hi\")\n",
    "    print(\"/t\")"
   ]
  },
  {
   "cell_type": "code",
   "execution_count": null,
   "metadata": {},
   "outputs": [],
   "source": []
  }
 ],
 "metadata": {
  "kernelspec": {
   "display_name": "Python 3",
   "language": "python",
   "name": "python3"
  },
  "language_info": {
   "codemirror_mode": {
    "name": "ipython",
    "version": 3
   },
   "file_extension": ".py",
   "mimetype": "text/x-python",
   "name": "python",
   "nbconvert_exporter": "python",
   "pygments_lexer": "ipython3",
   "version": "3.7.6"
  }
 },
 "nbformat": 4,
 "nbformat_minor": 4
}
