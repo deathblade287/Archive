{
 "cells": [
  {
   "cell_type": "code",
   "execution_count": null,
   "metadata": {},
   "outputs": [],
   "source": [
    "# Index\n",
    "# Check Number As Odd/Even -- (Works with input)\n",
    "# Check The Greatest Number(Does Not Work With Equal Numbers)\n",
    "# Check The 2 Equal Numbers\n",
    "# Largest Number--(Equal Numbers Do Not Matter)--(improved version)\n",
    "# Quiz of 5 questions\n",
    "# Taking out factors\n",
    "# HCF(From 2 Numbers)\n",
    "# This program will write the counting you inputed and every nuber will be written the same times as it's value\n",
    "# This program prints odd numbers and also specifies odd number that are divisible by 3\n",
    "# LCM of a number\n",
    "# Pattern 1\n",
    "# Prime\n",
    "# Pattern 1(Improved version)\n",
    "# Pattern 2\n",
    "# Number pattern 1\n",
    "# List Function Practice\n",
    "# List Program 1\n",
    "# Calculator and absolute value\n",
    "# Function practice 1\n",
    "# Function practice 2\n",
    "# Function practice 3\n",
    "# Number pattern 2\n",
    "# Function practice 4\n",
    "# Reverse string true or false"
   ]
  },
  {
   "cell_type": "code",
   "execution_count": null,
   "metadata": {},
   "outputs": [],
   "source": [
    "#Check Number As Odd/Even -- (Works with input)\n",
    "n = int(input(\"Please enter the number :: \"))\n",
    "x = n%2\n",
    "\n",
    "if (x == 0):\n",
    "    print(\"Even\")\n",
    "else :\n",
    "    print(\"Odd\")"
   ]
  },
  {
   "cell_type": "code",
   "execution_count": null,
   "metadata": {},
   "outputs": [],
   "source": [
    "#Check The Greatest Number(Does Not Work With Equal Numbers)\n",
    "a = 10\n",
    "b = 20\n",
    "c = 30\n",
    "\n",
    "if (a>=b):\n",
    "    if (a>c):\n",
    "         print(a,\"is greatest\")\n",
    "elif (b>c):\n",
    "        print(b,\"is greatest\")\n",
    "elif (c>a):\n",
    "    if (c>b):\n",
    "        print(c,\"is the greatest\")\n",
    "print(\"Test Done\")"
   ]
  },
  {
   "cell_type": "code",
   "execution_count": null,
   "metadata": {},
   "outputs": [],
   "source": [
    "#Check The 2 Equal Numbers\n",
    "a = 10\n",
    "b = 5\n",
    "c = 10\n",
    "\n",
    "if (a == b):\n",
    "    print(a , \"equals\" , b)\n",
    "elif (b == c):\n",
    "    print(c , \"equals\" , b)\n",
    "elif (c == a):\n",
    "    print(c , \"equals\" , a)\n",
    "print(\"Test Done\")"
   ]
  },
  {
   "cell_type": "code",
   "execution_count": null,
   "metadata": {},
   "outputs": [],
   "source": [
    "#Largest Number\n",
    "a = int(input(\"Number 1:\"))\n",
    "b = int(input(\"Number 2:\"))\n",
    "c = int(input(\"Number 3:\"))\n",
    "\n",
    "if (a>=b):\n",
    "    if (a>c):\n",
    "        print(a , \"is the greatest\")\n",
    "elif (b>=c):\n",
    "    print(b , \"is the greatest\")\n",
    "elif (c>=a):\n",
    "    if (c>b):\n",
    "        print(c , \"is the greatest\")"
   ]
  },
  {
   "cell_type": "code",
   "execution_count": null,
   "metadata": {},
   "outputs": [],
   "source": [
    "#Quiz of 5 questions\n",
    "score = 0\n",
    "print(\"Please write in all caps\")\n",
    "ans1 = str(input(\"Who is the richest man on earth?\"))\n",
    "if (ans1 == \"BILL GATES\"):\n",
    "    print(\"YOU ARE CORRECT!!\")\n",
    "    score = score + 1\n",
    "else :\n",
    "    print(\"You are wrong\")\n",
    "ans2 = str(input(\"Who is the co-founder of Microsoft\"))\n",
    "if (ans2 == \"BILL GATES\" or \"PAUL ALLEN\"):\n",
    "    print(\"YOU ARE CORRECT\")\n",
    "    score = score + 1\n",
    "else :\n",
    "    print(\"You are wrong\")\n",
    "ans1 = int(input(\"What is 30.5 + 4\"))\n",
    "if (ans1 == 34.5):\n",
    "    print(\"YOU ARE CORRECT\")\n",
    "    score = score + 1\n",
    "else :\n",
    "    print(\"You are wrong\")\n",
    "    \n",
    "if (score == 3):\n",
    "    print(\"YAY!!YOU GOT FULL MARKS\")\n",
    "else :\n",
    "    print(\"You got\" ,score , \"out of 3\" )"
   ]
  },
  {
   "cell_type": "code",
   "execution_count": null,
   "metadata": {},
   "outputs": [],
   "source": [
    "#Taking out factors\n",
    "inp = int(input(\"What Number's Factors Do You Want To Take Out?\"))\n",
    "cn = 1\n",
    "\n",
    "for i in range(inp):\n",
    "    r = inp%cn\n",
    "    if (r == 0):\n",
    "        print(cn)\n",
    "    cn = cn + 1"
   ]
  },
  {
   "cell_type": "code",
   "execution_count": null,
   "metadata": {},
   "outputs": [],
   "source": [
    "#HCF(From 2 Numbers)\n",
    "inp = int(input(\"Number 1:\"))\n",
    "inp2 = int(input(\"Number 2:\"))\n",
    "\n",
    "if (inp < inp2):\n",
    "    small = inp\n",
    "    big = inp2\n",
    "else :\n",
    "    small = inp2\n",
    "    big = inp\n",
    "for a in range (small , 1 , -1):\n",
    "    if (big%a == 0) and (small%a == 0):\n",
    "        print(a)\n",
    "        break"
   ]
  },
  {
   "cell_type": "code",
   "execution_count": 1,
   "metadata": {},
   "outputs": [
    {
     "name": "stdout",
     "output_type": "stream",
     "text": [
      "Till what number do you want the counting to be?4\n",
      "1 \n",
      "2 2 \n",
      "3 3 3 \n",
      "4 4 4 4 \n"
     ]
    }
   ],
   "source": [
    "#This program will write the counting you inputed and every nuber will be written the same times as it's value\n",
    "inp = int(input(\"Till what number do you want the counting to be?\"))\n",
    "for i in range (1 , inp+1 , 1):\n",
    "    for a in range(i):\n",
    "        print(i , end = \" \")\n",
    "    print()\n",
    "\n",
    "    "
   ]
  },
  {
   "cell_type": "code",
   "execution_count": null,
   "metadata": {},
   "outputs": [],
   "source": [
    "#This program prints odd numbers and also specifies odd number that are divisible by 3\n",
    "n = int(input(\"Number:\"))\n",
    "n = n + 1\n",
    "\n",
    "for i in range(0 , n , 1):\n",
    "    if not (i%2 == 0):\n",
    "        print(i , end = \" \")\n",
    "        if (i%3 == 0):\n",
    "            print(\"(i am divisible by 3)\")\n",
    "    print()\n",
    "        "
   ]
  },
  {
   "cell_type": "code",
   "execution_count": null,
   "metadata": {},
   "outputs": [],
   "source": [
    "#LCM of a number\n",
    "print(\"This program will take out the LCM of the 2 numbers you input\")\n",
    "n1 = int(input(\"Number 1:\"))\n",
    "n2 = int(input(\"Number 2:\"))\n",
    "\n",
    "if (n1>n2):\n",
    "    big = n1\n",
    "    small = n2\n",
    "else :\n",
    "    big = n2\n",
    "    small = n1\n",
    "bs = big*small\n",
    "    \n",
    "for i in range(big , bs , 1):\n",
    "    if (i%big == 0 and i%small == 0):\n",
    "        print(i)\n",
    "        break"
   ]
  },
  {
   "cell_type": "code",
   "execution_count": null,
   "metadata": {},
   "outputs": [],
   "source": [
    "#Patter 1\n",
    "for n in range(6):\n",
    "    for i in range(0 , n , 1):\n",
    "        print(\"*\" , end = \" \")\n",
    "    print()\n",
    "for a in range(6 , 0 , -1):\n",
    "    for b in range(a):\n",
    "        print(\"*\" , end = \" \")\n",
    "    print()\n",
    "    "
   ]
  },
  {
   "cell_type": "code",
   "execution_count": null,
   "metadata": {},
   "outputs": [],
   "source": [
    "#Prime\n",
    "n = int(input(\"What number do you want to check?\"))\n",
    "for i in range (2 , n-1 , 1):\n",
    "    if not (n%i == 0):\n",
    "        print(\"Prime\")\n",
    "        break\n",
    "    if (n%i == 0):\n",
    "        print(\"Not Prime\")\n",
    "        break\n",
    "    "
   ]
  },
  {
   "cell_type": "code",
   "execution_count": null,
   "metadata": {},
   "outputs": [],
   "source": [
    "#Pattern 1(Improved Version)"
   ]
  },
  {
   "cell_type": "code",
   "execution_count": null,
   "metadata": {},
   "outputs": [],
   "source": [
    "#Pattern 2\n",
    "c = 7\n",
    "for i in range(4):\n",
    "    for f in range(i):\n",
    "        print(\" \" , end = \" \")\n",
    "    for a in range(c , 0 , -1):\n",
    "        print(\"*\" , end = \" \")\n",
    "    print()\n",
    "    c = c - 2"
   ]
  },
  {
   "cell_type": "code",
   "execution_count": null,
   "metadata": {},
   "outputs": [],
   "source": [
    "#Number Pattern 1\n",
    "\"\"\"\n",
    "1\n",
    "2 3\n",
    "4 5 6\n",
    "7 8 9 10\n",
    "11 12 13 14\n",
    "\"\"\"\n",
    "num=1\n",
    "for i in range(5):\n",
    "    for g in range(0 , i , 1):\n",
    "        print(num,end=\" \")\n",
    "        num = num + 1\n",
    "    print()"
   ]
  },
  {
   "cell_type": "code",
   "execution_count": null,
   "metadata": {},
   "outputs": [],
   "source": [
    "c = 5+1\n",
    "for i in range(1 , c , 1):\n",
    "    for s in range(i , 0 , -1):\n",
    "        print(s , end = \" \")\n",
    "    print()\n",
    "        "
   ]
  },
  {
   "cell_type": "code",
   "execution_count": null,
   "metadata": {},
   "outputs": [],
   "source": [
    "\"\"\"\n",
    "11111\n",
    "2222\n",
    "333\n",
    "44\n",
    "5\n",
    "\"\"\"\n",
    "c = 5+1\n",
    "for i in range(1 , c , 1):\n",
    "    for g in range(c , 1 , -1):\n",
    "        print(i , end = \" \")\n",
    "    c = c - 1\n",
    "    print()"
   ]
  },
  {
   "cell_type": "code",
   "execution_count": null,
   "metadata": {},
   "outputs": [],
   "source": [
    "\"\"\"\n",
    "1\n",
    "2\n",
    "4\n",
    "8\n",
    "16\n",
    "32\n",
    "\"\"\"\n",
    "\n",
    "c = int(input(\"Maximum number\"))\n",
    "for i in range(1 , c  ,1):\n",
    "    print(i)"
   ]
  },
  {
   "cell_type": "code",
   "execution_count": null,
   "metadata": {},
   "outputs": [],
   "source": [
    "#List Function Practice\n",
    "\n",
    "#List\n",
    "l = [60 , 10 , 10 , 20 , 60 , 7.85 , True , False , \"Yo\" , \"Hello\" , True ,  56.345 , 554.45]\n",
    "\n",
    "#Add 5 elements to the end\n",
    "for i in range(5):\n",
    "    l.append(30)\n",
    "print(l)\n",
    "\n",
    "#Insert a number at the 5th position\n",
    "l.insert(5 , 57)\n",
    "print(l)"
   ]
  },
  {
   "cell_type": "code",
   "execution_count": 2,
   "metadata": {},
   "outputs": [
    {
     "name": "stdout",
     "output_type": "stream",
     "text": [
      "Starting Number:1\n",
      "Ending Number:2\n",
      "\n",
      "List of odd numbers\n",
      "[1]\n",
      "\n",
      "Lenght of list\n",
      "1\n",
      "\n",
      "last number of list\n",
      "1\n",
      "\n",
      "New list with all odd number converted to even by adding 1\n",
      "2 \n",
      "\n",
      "Multiple of 10 replaced by yes\n",
      "\n",
      "[2]\n",
      "[2]\n"
     ]
    }
   ],
   "source": [
    "## List Program\n",
    "\n",
    "#Variables\n",
    "b = int(input(\"Starting Number:\"))\n",
    "e = int(input(\"Ending Number:\"))\n",
    "l = []\n",
    "\n",
    "#List of odd numbers\n",
    "print()\n",
    "print(\"List of odd numbers\")\n",
    "for i in range(b , e  , 1):\n",
    "    if not(i%2 == 0):\n",
    "        l.append(i)\n",
    "print(l)\n",
    "\n",
    "#Lenght of list\n",
    "print()\n",
    "print(\"Lenght of list\")\n",
    "v = len(l)\n",
    "print(v)\n",
    "\n",
    "#Print last number of list\n",
    "print()\n",
    "print(\"last number of list\")\n",
    "print(l[v-1])\n",
    "\n",
    "#Convert all odd to even number by adding 1\n",
    "print()\n",
    "print(\"New list with all odd number converted to even by adding 1\")\n",
    "for g in range(0 , v , 1):\n",
    "    l[g] = l[g]+1\n",
    "    print(l[g] , end = \" \")\n",
    "print()\n",
    "\n",
    "#Multiples of 10 replaced by yes\n",
    "print()\n",
    "print(\"Multiple of 10 replaced by yes\")\n",
    "print()\n",
    "for f in range(0 , v , 1):\n",
    "    if(l[f]%10 == 0):\n",
    "        l[f] = \"Yes\"\n",
    "print(l)\n",
    "cy = l.count(\"Yes\")\n",
    "for x in range(cy):\n",
    "    l.remove(\"Yes\")\n",
    "print(l)\n",
    "\n",
    "    "
   ]
  },
  {
   "cell_type": "code",
   "execution_count": 6,
   "metadata": {},
   "outputs": [
    {
     "name": "stdout",
     "output_type": "stream",
     "text": [
      "For Addition A\n",
      "For subtraction type B\n",
      "For absolute value of a negative number type C\n",
      "A\n",
      "Number 1:111111111111\n",
      "Number 2:2222222222222\n",
      "111111111111 + 2222222222222 = 2333333333333\n"
     ]
    }
   ],
   "source": [
    "# Calculator and absolute value\n",
    "print(\"For Addition A\")\n",
    "print(\"For subtraction type B\")\n",
    "print(\"For absolute value of a negative number type C\")\n",
    "inp = str(input())\n",
    "if (inp == \"A\"):\n",
    "    a1 = int(input(\"Number 1:\"))\n",
    "    a2 = int(input(\"Number 2:\"))\n",
    "    print(a1 , \"+\" , a2 , \"=\" , a1 + a2)\n",
    "elif (inp == \"B\"):\n",
    "    b1 = int(input(\"Number 1:\"))\n",
    "    b2 = int(input(\"Number 2:\"))\n",
    "    if (b1>b2):\n",
    "        print(b1 , \"-\" , b2 , \"= \" , b1 - b2)\n",
    "    else :\n",
    "        print(b2 , \"-\" , b1 , \"=\" , b2 - b1)\n",
    "elif (inp == \"C\"):\n",
    "    c1 = int(input(\"Please input the negative number you want absolute value of:\"))\n",
    "    if not(c1 == 0 or 0>c1):\n",
    "        print(\"Invalid(Please input a negative number!!)\")\n",
    "    else :\n",
    "        print(\"The absolute value of\" , c1 , \"is\" , c1 - (c1*2))"
   ]
  },
  {
   "cell_type": "code",
   "execution_count": null,
   "metadata": {},
   "outputs": [],
   "source": [
    "# Function practice 1\n",
    "\"\"\"\n",
    "Write a function calculation() such that it can accept two variables and calculate the addition and subtraction of it.And \n",
    "also it must return both addition and subtraction in a single return call.\n",
    "\"\"\"\n",
    "inp = int(input(\"Number 1:\"))\n",
    "inp2 = int(input(\"Number 2:\"))\n",
    "\n",
    "def calculation(num1 , num2):\n",
    "    add = num1 + num2\n",
    "    sub = num1 - num2\n",
    "    print(num1 , \"+\" , num2 , \"=\" , add)\n",
    "    print(num1 , \"-\" , num2 , \"=\" , sub)\n",
    "    return add , sub\n",
    "\n",
    "calculation(inp , inp2)"
   ]
  },
  {
   "cell_type": "code",
   "execution_count": 2,
   "metadata": {},
   "outputs": [
    {
     "name": "stdout",
     "output_type": "stream",
     "text": [
      "Number:5\n",
      "1 + 5 = 6\n",
      "2 + 5 = 7\n",
      "3 + 5 = 8\n",
      "4 + 5 = 9\n",
      "5 + 5 = 10\n"
     ]
    }
   ],
   "source": [
    "# Function practice 2\n",
    "\"\"\"\n",
    " Accept number from user and calculate the sum of that number and all the numbers between 1 and given number\n",
    "\"\"\"\n",
    "inp = int(input(\"Number:\"))\n",
    "\n",
    "for i in range(1 , inp+1 , 1):\n",
    "    print(i , \"+\" , inp , \"=\" , i+inp)"
   ]
  },
  {
   "cell_type": "code",
   "execution_count": null,
   "metadata": {},
   "outputs": [],
   "source": [
    "# Function practice 3\n",
    "\"\"\"\n",
    " Accept number from user and calculate the sum of all number between 1 and given number\n",
    "\"\"\"\n",
    "inp = int(input(\"Number:\"))\n",
    "c = 0\n",
    "for i in range(1 , inp+1 , 1):\n",
    "    c = c + i\n",
    "print(c)"
   ]
  },
  {
   "cell_type": "code",
   "execution_count": 1,
   "metadata": {},
   "outputs": [
    {
     "name": "stdout",
     "output_type": "stream",
     "text": [
      "Maximum Number:5\n",
      "5 4 3 2 1 \n",
      "4 3 2 1 \n",
      "3 2 1 \n",
      "2 1 \n",
      "1 \n"
     ]
    }
   ],
   "source": [
    "# Number pattern\n",
    "c = int(input(\"Maximum Number:\"))\n",
    "for i in range(c,0,-1):\n",
    "    for g in range(i , 0 , -1):\n",
    "        print(g , end = \" \")\n",
    "    print()\n",
    "    \n"
   ]
  },
  {
   "cell_type": "code",
   "execution_count": 14,
   "metadata": {},
   "outputs": [
    {
     "name": "stdout",
     "output_type": "stream",
     "text": [
      "How many numbers do you want to enter:3\n",
      "\n",
      "Number:500\n",
      "Number:2\n",
      "Number:1\n",
      "1000 i am greater then 500\n"
     ]
    }
   ],
   "source": [
    "#Function practice 4\n",
    "\"\"\"\n",
    "Create a user-defined list with integers and then create a function to calculate the product of all the numbers in the list\n",
    "and print it.\n",
    "If the product is more than 500 -- print: i am more than 500 -- else -- print: i am less than 500\n",
    "\"\"\"\n",
    "\n",
    "l = []\n",
    "inp = int(input(\"How many numbers do you want to enter:\"))\n",
    "print()\n",
    "\n",
    "for i in range(inp):\n",
    "    n = int(input(\"Number:\"))\n",
    "    l.append(n)\n",
    "\n",
    "def product_l():\n",
    "    p = 1\n",
    "    for g in range(inp):\n",
    "        p = p*l[g]\n",
    "    print(p , end = \" \")\n",
    "    return p\n",
    "c = product_l()\n",
    "\n",
    "if (c>500):\n",
    "    print(\"i am greater then 500\")\n",
    "else :\n",
    "    print(\"I am lesser than 500\")\n",
    "    \n",
    "    "
   ]
  },
  {
   "cell_type": "code",
   "execution_count": 13,
   "metadata": {},
   "outputs": [
    {
     "name": "stdout",
     "output_type": "stream",
     "text": [
      "Type in all smalls\n",
      "The word you want to check: nitin\n",
      "True\n"
     ]
    }
   ],
   "source": [
    "# Reverse string true or false\n",
    "print(\"Type in all smalls\")\n",
    "inp = str(input(\"The word you want to check: \"))\n",
    "r_inp = inp[::-1]\n",
    "\n",
    "if (inp == r_inp):\n",
    "    print(\"True\")\n",
    "else :\n",
    "    print(\"False\")"
   ]
  },
  {
   "cell_type": "code",
   "execution_count": null,
   "metadata": {},
   "outputs": [],
   "source": []
  }
 ],
 "metadata": {
  "kernelspec": {
   "display_name": "Python 3",
   "language": "python",
   "name": "python3"
  },
  "language_info": {
   "codemirror_mode": {
    "name": "ipython",
    "version": 3
   },
   "file_extension": ".py",
   "mimetype": "text/x-python",
   "name": "python",
   "nbconvert_exporter": "python",
   "pygments_lexer": "ipython3",
   "version": "3.8.5"
  }
 },
 "nbformat": 4,
 "nbformat_minor": 4
}
